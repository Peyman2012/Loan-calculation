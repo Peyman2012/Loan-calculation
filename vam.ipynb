{
 "cells": [
  {
   "cell_type": "code",
   "execution_count": null,
   "metadata": {},
   "outputs": [],
   "source": [
    "m=int(input(\"Enter m:\"))\n",
    "tedad=int(input(\"Enter tedad:\"))\n",
    "s=int(input(\"Enter s:\"))"
   ]
  },
  {
   "cell_type": "code",
   "execution_count": null,
   "metadata": {},
   "outputs": [],
   "source": [
    "def bahreh(m,tedad,s):\n",
    "    k=m+(m*(tedad+1)*s)/2400\n",
    "    return k\n",
    "\n",
    "    "
   ]
  },
  {
   "cell_type": "code",
   "execution_count": null,
   "metadata": {},
   "outputs": [],
   "source": [
    "while True:\n",
    "    bahreh(m,tedad,s)\n",
    "    a=bahreh(m,tedad,s)\n",
    "    p=a/tedad\n",
    "    print(\"k   =    \",a,\"           \",p)\n",
    "    yes=input(\"Do you want to continue(y/n):\")\n",
    "    if yes[0]=='N'or yes[0]=='n':\n",
    "        break\n",
    "    \n",
    "    \n",
    "    \n",
    "     "
   ]
  },
  {
   "cell_type": "code",
   "execution_count": null,
   "metadata": {},
   "outputs": [
    {
     "name": "stdout",
     "output_type": "stream",
     "text": [
      "Enter m:50000000\n",
      "Enter tedad:60\n",
      "Enter s:18\n",
      "k   =     72875000.0             1214583.3333333333\n"
     ]
    }
   ],
   "source": [
    "while True:\n",
    "    m=int(input(\"Enter m:\"))\n",
    "    tedad=int(input(\"Enter tedad:\"))\n",
    "    s=int(input(\"Enter s:\"))\n",
    "    def bahreh(m,tedad,s):\n",
    "        k=m+(m*(tedad+1)*s)/2400\n",
    "        return k\n",
    "    \n",
    "    bahreh(m,tedad,s)\n",
    "    a=bahreh(m,tedad,s)\n",
    "    p=a/tedad\n",
    "    print(\"k   =    \",a,\"           \",p)\n",
    "    yes=input(\"Do you want to continue(y/n):\")\n",
    "    if yes[0]=='N'or yes[0]=='n':\n",
    "        break\n",
    "    "
   ]
  },
  {
   "cell_type": "code",
   "execution_count": null,
   "metadata": {},
   "outputs": [],
   "source": []
  },
  {
   "cell_type": "code",
   "execution_count": null,
   "metadata": {},
   "outputs": [],
   "source": []
  }
 ],
 "metadata": {
  "kernelspec": {
   "display_name": "Python 3",
   "language": "python",
   "name": "python3"
  },
  "language_info": {
   "codemirror_mode": {
    "name": "ipython",
    "version": 3
   },
   "file_extension": ".py",
   "mimetype": "text/x-python",
   "name": "python",
   "nbconvert_exporter": "python",
   "pygments_lexer": "ipython3",
   "version": "3.6.13"
  }
 },
 "nbformat": 4,
 "nbformat_minor": 2
}
